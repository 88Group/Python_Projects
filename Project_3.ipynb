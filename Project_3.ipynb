{
 "cells": [
  {
   "cell_type": "code",
   "execution_count": 1,
   "id": "2da70c9b",
   "metadata": {},
   "outputs": [
    {
     "name": "stdout",
     "output_type": "stream",
     "text": [
      "Enter First number : 55\n",
      "Enter First number : 65\n",
      "Enter First number : 75\n",
      "75 is largest\n",
      "55 is smallest\n",
      "The difference between the largest 75 and the smallest 55 is 20\n",
      "55 is 73.33% of 75\n"
     ]
    }
   ],
   "source": [
    "#1)Accept three numbers from the user and find the largest and smallest amongst them. Also find the difference between the\n",
    "#largest and smallest number obtained. Also calculate how much percent is smallest number of largest number.\n",
    "\n",
    "a = int(input('Enter First number : '))\n",
    "b = int(input('Enter First number : '))\n",
    "c = int(input('Enter First number : '))\n",
    "large,small=0,0\n",
    "if(a>b and a>c):\n",
    "    large= a\n",
    "elif(b>a and b>c):\n",
    "    large= b\n",
    "else:\n",
    "    large= c\n",
    "\n",
    "if(a<b and a<c):\n",
    "    small= a\n",
    "elif(b>a and b>c):\n",
    "    small= b\n",
    "else:\n",
    "    small = c\n",
    "              \n",
    "\n",
    "diff = large - small\n",
    "print(f'{large} is largest')\n",
    "print(f'{small} is smallest')\n",
    "print(f'The difference between the largest {large} and the smallest {small} is {diff}')\n",
    "percent = (small/large)*100\n",
    "print(f'{small} is {round(percent,2)}% of {large}')"
   ]
  },
  {
   "cell_type": "code",
   "execution_count": 2,
   "id": "71126522",
   "metadata": {},
   "outputs": [],
   "source": [
    "# 2) Accept a students marks from the user and display result as per the condition given below:\n",
    "# a) marks in between 0-30, display 'Fail'<br>\n",
    "# b) marks in between 30-50,display 'Just Pass'<br>\n",
    "# c) marks in between 50-70,display 'Average'<br>\n",
    "# d) marks in between 70-90,display 'Good'<br>\n",
    "# e) marks in between 90-100,display 'Outstanding'<br>\n",
    "# f) marks below 0 and marks above 100, display 'Invalid marks'<br>"
   ]
  },
  {
   "cell_type": "code",
   "execution_count": 3,
   "id": "b8565971",
   "metadata": {},
   "outputs": [
    {
     "name": "stdout",
     "output_type": "stream",
     "text": [
      "Enter your Marks 55\n",
      "Average\n"
     ]
    }
   ],
   "source": [
    "#2.no-\n",
    "n = int(input('Enter your Marks '))\n",
    "if(n>0 and n<=30):\n",
    "    print('Fail')\n",
    "elif(n>30 and n<=50):\n",
    "    print('Just Pass')\n",
    "elif(n>50 and n<=70):\n",
    "    print('Average')\n",
    "elif(n>70 and n<=90):\n",
    "    print('Good')\n",
    "elif(n>90 and n<=100):\n",
    "    print('Outstanding')\n",
    "else:\n",
    "    print('Invalid marks')"
   ]
  },
  {
   "cell_type": "code",
   "execution_count": 4,
   "id": "22b9c8f9",
   "metadata": {},
   "outputs": [
    {
     "name": "stdout",
     "output_type": "stream",
     "text": [
      "the number : 65\n",
      "13.0\n"
     ]
    }
   ],
   "source": [
    "#3) For a given user entered number, if the number is between 1-100, find 20% of the number, if the number is between 100-300,\n",
    "#<br>find 30% of the number, if the number is between 300-700, find 40% of the number and if the number is between 700-1000, <br>find 50% of the number. print invalid number otherwise.\n",
    "a=int(input('the number : '))\n",
    "if (a>=1 and a<=100):\n",
    "    per=(a*.20)\n",
    "    print(f'{per}')\n",
    "elif (a>100 and a<=300):\n",
    "    per=(a*.30)\n",
    "    print(f'{per}')\n",
    "elif (a>300 and a<=700):\n",
    "    per=(a*.40)\n",
    "    print(f'{per}')\n",
    "elif (a>700 and a<=1000):\n",
    "    per=(a*.50)\n",
    "    print(f'{per}')\n",
    "else:\n",
    "    print('invalid')"
   ]
  },
  {
   "cell_type": "code",
   "execution_count": null,
   "id": "1bba7e63",
   "metadata": {},
   "outputs": [],
   "source": []
  }
 ],
 "metadata": {
  "kernelspec": {
   "display_name": "Python 3 (ipykernel)",
   "language": "python",
   "name": "python3"
  },
  "language_info": {
   "codemirror_mode": {
    "name": "ipython",
    "version": 3
   },
   "file_extension": ".py",
   "mimetype": "text/x-python",
   "name": "python",
   "nbconvert_exporter": "python",
   "pygments_lexer": "ipython3",
   "version": "3.9.12"
  }
 },
 "nbformat": 4,
 "nbformat_minor": 5
}
