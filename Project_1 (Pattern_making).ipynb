{
 "cells": [
  {
   "cell_type": "code",
   "execution_count": 5,
   "metadata": {},
   "outputs": [
    {
     "name": "stdout",
     "output_type": "stream",
     "text": [
      "1 1 1 1 1 \n",
      "2 2 2 2 2 \n",
      "3 3 3 3 3 \n",
      "4 4 4 4 4 \n",
      "5 5 5 5 5 \n"
     ]
    }
   ],
   "source": [
    "for i in range (1,6):\n",
    "    for j in range (1,6):\n",
    "        print(i,end=\" \")\n",
    "    print()"
   ]
  },
  {
   "cell_type": "code",
   "execution_count": 6,
   "metadata": {},
   "outputs": [
    {
     "name": "stdout",
     "output_type": "stream",
     "text": [
      "1 2 3 4 5 \n",
      "1 2 3 4 5 \n",
      "1 2 3 4 5 \n",
      "1 2 3 4 5 \n",
      "1 2 3 4 5 \n"
     ]
    }
   ],
   "source": [
    "for i in range (1,6):\n",
    "    for j in range (1,6):\n",
    "        print(j,end=\" \")\n",
    "    print()"
   ]
  },
  {
   "cell_type": "code",
   "execution_count": 7,
   "metadata": {},
   "outputs": [
    {
     "name": "stdout",
     "output_type": "stream",
     "text": [
      "5 5 5 5 5 \n",
      "4 4 4 4 4 \n",
      "3 3 3 3 3 \n",
      "2 2 2 2 2 \n",
      "1 1 1 1 1 \n"
     ]
    }
   ],
   "source": [
    "for i in range (5,0,-1):\n",
    "    for j in range (5,0,-1):\n",
    "        print(i,end=\" \")\n",
    "    print()"
   ]
  },
  {
   "cell_type": "code",
   "execution_count": 8,
   "metadata": {},
   "outputs": [
    {
     "name": "stdout",
     "output_type": "stream",
     "text": [
      "5 4 3 2 1 \n",
      "5 4 3 2 1 \n",
      "5 4 3 2 1 \n",
      "5 4 3 2 1 \n",
      "5 4 3 2 1 \n"
     ]
    }
   ],
   "source": [
    "for i in range (5,0,-1):\n",
    "    for j in range (5,0,-1):\n",
    "        print(j,end=\" \")\n",
    "    print()"
   ]
  },
  {
   "cell_type": "code",
   "execution_count": 9,
   "metadata": {},
   "outputs": [
    {
     "name": "stdout",
     "output_type": "stream",
     "text": [
      "10000\n",
      "11000\n",
      "11100\n",
      "11110\n",
      "11111\n"
     ]
    }
   ],
   "source": [
    "for i in range (1,6):\n",
    "    for j in range (1,6):\n",
    "        if (j>i):\n",
    "            print('0',end=\"\")\n",
    "        else:\n",
    "            print(\"1\",end=\"\")\n",
    "    print()\n",
    "    \n",
    "\n"
   ]
  },
  {
   "cell_type": "code",
   "execution_count": 10,
   "metadata": {},
   "outputs": [
    {
     "name": "stdout",
     "output_type": "stream",
     "text": [
      "0 1 0 1 0 \n",
      "1 0 1 0 1 \n",
      "0 1 0 1 0 \n",
      "1 0 1 0 1 \n",
      "0 1 0 1 0 \n"
     ]
    }
   ],
   "source": [
    "for i in range (1,6):\n",
    "    for j in range (1,6):\n",
    "        if ((i+j)%2==0):\n",
    "            print('0',end=\" \")\n",
    "        else:\n",
    "            print(\"1\",end=\" \")\n",
    "    print()"
   ]
  },
  {
   "cell_type": "code",
   "execution_count": 11,
   "metadata": {},
   "outputs": [
    {
     "name": "stdout",
     "output_type": "stream",
     "text": [
      "5\n",
      "1 0 0 0 1 \n",
      "0 2 0 2 0 \n",
      "0 0 3 0 0 \n",
      "0 4 0 4 0 \n",
      "5 0 0 0 5 \n"
     ]
    }
   ],
   "source": [
    "n=int(input())\n",
    "for i in range (1,n+1):\n",
    "    for j in range (1,n+1):\n",
    "        if (i==j or i+j==n+1):\n",
    "            print(i,end=\" \")\n",
    "        else:\n",
    "            print(0,end=\" \")\n",
    "    print()"
   ]
  },
  {
   "cell_type": "code",
   "execution_count": 8,
   "metadata": {},
   "outputs": [
    {
     "name": "stdout",
     "output_type": "stream",
     "text": [
      "6\n",
      "1 1 1 1 1 \n",
      "2 2 2 2 2 \n",
      "3 3 3 3 3 \n",
      "4 4 4 4 4 \n",
      "5 5 5 5 5 \n"
     ]
    }
   ],
   "source": [
    " n=int(input())\n",
    "for i in range (1,n):\n",
    "    for j in range (1,n):\n",
    "        print(i,end=\" \")\n",
    "    print()"
   ]
  },
  {
   "cell_type": "code",
   "execution_count": 89,
   "metadata": {},
   "outputs": [
    {
     "name": "stdout",
     "output_type": "stream",
     "text": [
      "6\n",
      "6 is even\n"
     ]
    }
   ],
   "source": [
    "n=int(input())\n",
    "if (n%2==0):\n",
    "    print(f'{n} is even')\n",
    "else:\n",
    "    print(f'{n} is odd')"
   ]
  },
  {
   "cell_type": "code",
   "execution_count": 2,
   "metadata": {},
   "outputs": [
    {
     "name": "stdout",
     "output_type": "stream",
     "text": [
      "5\n",
      "5 0 0 0 5 \n",
      "0 4 0 4 0 \n",
      "0 0 3 0 0 \n",
      "0 2 0 2 0 \n",
      "1 0 0 0 1 \n"
     ]
    }
   ],
   "source": [
    "n=int(input())\n",
    "for i in range (5,0,-1):\n",
    "    for j in range (1,6):\n",
    "        if (i==j or i+j==n+1):\n",
    "            print(i,end=\" \")\n",
    "        else:\n",
    "            print(0,end=\" \")\n",
    "    print()"
   ]
  },
  {
   "cell_type": "code",
   "execution_count": 3,
   "metadata": {},
   "outputs": [
    {
     "name": "stdout",
     "output_type": "stream",
     "text": [
      "10\n",
      "1 1 1 1 1 1 1 1 1 \n",
      "2 2 2 2 2 2 2 2 2 \n",
      "3 3 3 3 3 3 3 3 3 \n",
      "4 4 4 4 4 4 4 4 4 \n",
      "5 5 5 5 5 5 5 5 5 \n",
      "6 6 6 6 6 6 6 6 6 \n",
      "7 7 7 7 7 7 7 7 7 \n",
      "8 8 8 8 8 8 8 8 8 \n",
      "9 9 9 9 9 9 9 9 9 \n"
     ]
    }
   ],
   "source": [
    "n=int(input())\n",
    "for i in range (1,10):\n",
    "    for j in range (1,10):\n",
    "        print(i,end=\" \")\n",
    "    print()\n",
    "    "
   ]
  },
  {
   "cell_type": "code",
   "execution_count": 13,
   "metadata": {},
   "outputs": [
    {
     "name": "stdout",
     "output_type": "stream",
     "text": [
      "A B C D E \n",
      "A B C D E \n",
      "A B C D E \n",
      "A B C D E \n",
      "A B C D E \n"
     ]
    }
   ],
   "source": [
    "for i in range (65,70):\n",
    "    for j in range (65,70):\n",
    "        print(chr(j),end=\" \")\n",
    "    print()"
   ]
  },
  {
   "cell_type": "code",
   "execution_count": 14,
   "metadata": {},
   "outputs": [
    {
     "name": "stdout",
     "output_type": "stream",
     "text": [
      "5\n",
      "A A A A A \n",
      "B B B B B \n",
      "C C C C C \n",
      "D D D D D \n",
      "E E E E E \n"
     ]
    }
   ],
   "source": [
    "n=int(input())\n",
    "for i in range (65,70):\n",
    "    for j in range (65,70):\n",
    "        print(chr(i),end=\" \")\n",
    "    print()"
   ]
  },
  {
   "cell_type": "code",
   "execution_count": 18,
   "metadata": {},
   "outputs": [
    {
     "name": "stdout",
     "output_type": "stream",
     "text": [
      "65\n",
      "E D C B A \n",
      "E D C B A \n",
      "E D C B A \n",
      "E D C B A \n",
      "E D C B A \n"
     ]
    }
   ],
   "source": [
    "n=int(input())\n",
    "for i in range (69,64,-1):\n",
    "    for j in range (69,64,-1):\n",
    "        print(chr(j),end=\" \")\n",
    "    print()"
   ]
  },
  {
   "cell_type": "code",
   "execution_count": 20,
   "metadata": {},
   "outputs": [
    {
     "name": "stdout",
     "output_type": "stream",
     "text": [
      "69\n",
      "E E E E E \n",
      "D D D D D \n",
      "C C C C C \n",
      "B B B B B \n",
      "A A A A A \n"
     ]
    }
   ],
   "source": [
    "n=int(input())\n",
    "for i in range (n,n-5,-1):\n",
    "    for j in range (n,n-5,-1):\n",
    "        print(chr(i),end=\" \")\n",
    "    print()"
   ]
  },
  {
   "cell_type": "code",
   "execution_count": 21,
   "metadata": {},
   "outputs": [
    {
     "name": "stdout",
     "output_type": "stream",
     "text": [
      "* * * * * \n",
      "* * * * * \n",
      "* * * * * \n",
      "* * * * * \n",
      "* * * * * \n"
     ]
    }
   ],
   "source": [
    "for i in range (1,6):\n",
    "    for j in range (1,6):\n",
    "        print(\"*\",end=\" \")\n",
    "    print()"
   ]
  },
  {
   "cell_type": "code",
   "execution_count": 22,
   "metadata": {},
   "outputs": [
    {
     "name": "stdout",
     "output_type": "stream",
     "text": [
      "* \n",
      "* * \n",
      "* * * \n",
      "* * * * \n",
      "* * * * * \n"
     ]
    }
   ],
   "source": [
    "for i in range (1,6):\n",
    "    for j in range (1,6):\n",
    "        if (i==j or i>j):\n",
    "            print(\"*\",end=\" \")\n",
    "    print()"
   ]
  },
  {
   "cell_type": "code",
   "execution_count": 23,
   "metadata": {},
   "outputs": [
    {
     "name": "stdout",
     "output_type": "stream",
     "text": [
      "* * * * * \n",
      "* * * * \n",
      "* * * \n",
      "* * \n",
      "* \n"
     ]
    }
   ],
   "source": [
    "for i in range (5,0,-1):\n",
    "    for j in range (5,0,-1):\n",
    "        if (i==j or i>j):\n",
    "            print(\"*\",end=\" \")\n",
    "    print()"
   ]
  },
  {
   "cell_type": "code",
   "execution_count": 24,
   "metadata": {},
   "outputs": [
    {
     "name": "stdout",
     "output_type": "stream",
     "text": [
      "        * \n",
      "      * * \n",
      "    * * * \n",
      "  * * * * \n",
      "* * * * * \n"
     ]
    }
   ],
   "source": [
    "for j in range (1,6):\n",
    "    for i in range (5,0,-1):\n",
    "        if (i==j or j>i):\n",
    "            print(\"*\",end=\" \")\n",
    "        else:\n",
    "            print(\" \",end=\" \")\n",
    "    print()"
   ]
  },
  {
   "cell_type": "code",
   "execution_count": 25,
   "metadata": {},
   "outputs": [
    {
     "name": "stdout",
     "output_type": "stream",
     "text": [
      "* * * * * \n",
      "* * * *   \n",
      "* * *     \n",
      "* *       \n",
      "*         \n"
     ]
    }
   ],
   "source": [
    "for j in range (5,0,-1):\n",
    "    for i in range (1,6):\n",
    "        if (i==j or j>i):\n",
    "            print(\"*\",end=\" \")\n",
    "        else:\n",
    "            print(\" \",end=\" \")\n",
    "    print()"
   ]
  },
  {
   "cell_type": "code",
   "execution_count": 27,
   "metadata": {},
   "outputs": [
    {
     "name": "stdout",
     "output_type": "stream",
     "text": [
      "    * \n",
      "   * * \n",
      "  * * * \n",
      " * * * * \n",
      "* * * * * \n"
     ]
    }
   ],
   "source": [
    "for j in range (1,6):  \n",
    "    for i in range (5,0,-1):  \n",
    "        if (i==j or j>i):   \n",
    "            print(\"*\",end=\" \")  \n",
    "        else:  \n",
    "            print(\"\",end=\" \")  \n",
    "    print() "
   ]
  },
  {
   "cell_type": "code",
   "execution_count": 28,
   "metadata": {},
   "outputs": [
    {
     "name": "stdout",
     "output_type": "stream",
     "text": [
      "* * * * * \n",
      " * * * * \n",
      "  * * * \n",
      "   * * \n",
      "    * \n"
     ]
    }
   ],
   "source": [
    "for j in range (1,6):\n",
    "    for i in range (1,6):\n",
    "        if (i==j or i>j):\n",
    "            print(\"*\",end=\" \")\n",
    "        else:\n",
    "            print(\"\",end=\" \")\n",
    "    print()"
   ]
  },
  {
   "cell_type": "code",
   "execution_count": 5,
   "metadata": {},
   "outputs": [
    {
     "name": "stdout",
     "output_type": "stream",
     "text": [
      "    * \n",
      "   * * \n",
      "  * * * \n",
      " * * * * \n",
      "* * * * * \n",
      "* * * * * \n",
      " * * * * \n",
      "  * * * \n",
      "   * * \n",
      "    * \n"
     ]
    }
   ],
   "source": [
    "for j in range (1,6):\n",
    "    for i in range (5,0,-1):\n",
    "        if (i==j or j>i):\n",
    "            print(\"*\",end=\" \")\n",
    "        else:\n",
    "            print(\"\",end=\" \")\n",
    "    print()\n",
    "for j in range (1,6):\n",
    "    for i in range (1,6):\n",
    "        if (i==j or i>j):\n",
    "            print(\"*\",end=\" \")\n",
    "        else:\n",
    "            print(\"\",end=\" \")\n",
    "    print()\n"
   ]
  },
  {
   "cell_type": "code",
   "execution_count": 22,
   "metadata": {},
   "outputs": [
    {
     "name": "stdout",
     "output_type": "stream",
     "text": [
      "5\n",
      "*       * \n",
      "* *     * \n",
      "*   *   * \n",
      "*     * * \n",
      "*       * \n",
      "* * * * * \n",
      "*       * \n",
      "*       * \n",
      "*       * \n",
      "* * * * * \n"
     ]
    }
   ],
   "source": [
    "n=int(input())\n",
    "for i in range (1,n+1):  \n",
    "    for j in range (1,n+1):     \n",
    "        if (i==j or (j==(n)) or j==(n-4)):    \n",
    "            print(\"*\",end=\" \")\n",
    "        else:\n",
    "            print(\" \",end=\" \")\n",
    "    print()\n",
    "    \n",
    "for i in range (1,n+1):  \n",
    "    for j in range (1,n+1):     \n",
    "        if ((i==n) or (j==(n)) or j==(n-4) or i==(n-4)):    \n",
    "            print(\"*\",end=\" \")\n",
    "        else:\n",
    "            print(\" \",end=\" \")\n",
    "\n",
    "            \n",
    "    print()    \n",
    "        "
   ]
  },
  {
   "cell_type": "code",
   "execution_count": 23,
   "metadata": {},
   "outputs": [
    {
     "name": "stdout",
     "output_type": "stream",
     "text": [
      "5\n",
      "* * * * * \n",
      "*       * \n",
      "*       * \n",
      "*       * \n",
      "* * * * * \n"
     ]
    }
   ],
   "source": [
    "n=int(input())\n",
    "for i in range (1,n+1):  \n",
    "    for j in range (1,n+1):     \n",
    "        if ((i==n) or (j==(n)) or j==(n-4) or i==(n-4)):    \n",
    "            print(\"*\",end=\" \")\n",
    "        else:\n",
    "            print(\" \",end=\" \")\n",
    "    print()"
   ]
  },
  {
   "cell_type": "code",
   "execution_count": 37,
   "metadata": {},
   "outputs": [
    {
     "name": "stdout",
     "output_type": "stream",
     "text": [
      "6\n",
      "0 1 0 1 0 \n",
      "1 0 1 0 1 \n",
      "0 1 0 1 0 \n",
      "1 0 1 0 1 \n",
      "0 1 0 1 0 \n"
     ]
    }
   ],
   "source": [
    "n=int(input())\n",
    "for i in range (1,n):\n",
    "        for j in range (1,n):\n",
    "            if ((i+j)%2!=0):\n",
    "                print(1,end=\" \")\n",
    "            else:\n",
    "                print(0,end=\" \")\n",
    "        print()   "
   ]
  },
  {
   "cell_type": "code",
   "execution_count": 35,
   "metadata": {},
   "outputs": [
    {
     "name": "stdout",
     "output_type": "stream",
     "text": [
      "6\n",
      "1 0 0 0 0 1 \n",
      "0 2 0 0 2 0 \n",
      "0 0 3 3 0 0 \n",
      "0 0 4 4 0 0 \n",
      "0 5 0 0 5 0 \n",
      "6 0 0 0 0 6 \n"
     ]
    }
   ],
   "source": [
    "n=int(input()) \n",
    "for i in range (1,n+1):\n",
    "        for j in range (1,n+1): \n",
    "            if (i==j or (i+j)==(n+1)): \n",
    "                print(i,end=\" \") \n",
    "            else: \n",
    "                print(0,end=\" \")\n",
    "        print()  "
   ]
  },
  {
   "cell_type": "code",
   "execution_count": 114,
   "metadata": {},
   "outputs": [
    {
     "name": "stdout",
     "output_type": "stream",
     "text": [
      "  * *   * *   \n",
      "*     *     * \n",
      "*           * \n",
      "  *       *   \n",
      "    *   *     \n",
      "      *       \n"
     ]
    }
   ],
   "source": [
    "for i in range (0,6):\n",
    "    for j in range (0,7):\n",
    "        if ((i==0) and (j%3!=0)) or ((i==1) and (j%3==0)) or (i-j==2) or (i+j==8):\n",
    "            print('*',end=\" \")\n",
    "        else:\n",
    "            print(' ',end=\" \")\n",
    "    print()   "
   ]
  },
  {
   "cell_type": "code",
   "execution_count": 5,
   "metadata": {},
   "outputs": [
    {
     "name": "stdout",
     "output_type": "stream",
     "text": [
      "1 1 1 1 1 \n",
      "2 2 2 2 2 \n",
      "3 3 3 3 3 \n",
      "4 4 4 4 4 \n",
      "5 5 5 5 5 \n"
     ]
    }
   ],
   "source": [
    "for i in range (1,6):\n",
    "    for j in range (1,6):\n",
    "        print(i,end=\" \")\n",
    "    print()       "
   ]
  },
  {
   "cell_type": "code",
   "execution_count": 6,
   "metadata": {},
   "outputs": [
    {
     "name": "stdout",
     "output_type": "stream",
     "text": [
      "1 2 3 4 5 \n",
      "1 2 3 4 5 \n",
      "1 2 3 4 5 \n",
      "1 2 3 4 5 \n",
      "1 2 3 4 5 \n"
     ]
    }
   ],
   "source": [
    "for i in range (1,6):\n",
    "    for j in range (1,6):\n",
    "        print(j,end=\" \")\n",
    "    print() "
   ]
  },
  {
   "cell_type": "code",
   "execution_count": 8,
   "metadata": {},
   "outputs": [
    {
     "name": "stdout",
     "output_type": "stream",
     "text": [
      "5 4 3 2 1 \n",
      "5 4 3 2 1 \n",
      "5 4 3 2 1 \n",
      "5 4 3 2 1 \n",
      "5 4 3 2 1 \n"
     ]
    }
   ],
   "source": [
    "for i in range (5,0,-1):\n",
    "    for j in range (5,0,-1):\n",
    "        print(j,end=\" \")\n",
    "    print()"
   ]
  },
  {
   "cell_type": "code",
   "execution_count": 9,
   "metadata": {},
   "outputs": [
    {
     "name": "stdout",
     "output_type": "stream",
     "text": [
      "5 5 5 5 5 \n",
      "4 4 4 4 4 \n",
      "3 3 3 3 3 \n",
      "2 2 2 2 2 \n",
      "1 1 1 1 1 \n"
     ]
    }
   ],
   "source": [
    "for i in range (5,0,-1):\n",
    "    for j in range (5,0,-1):\n",
    "        print(i,end=\" \")\n",
    "    print()"
   ]
  },
  {
   "cell_type": "code",
   "execution_count": 12,
   "metadata": {},
   "outputs": [
    {
     "name": "stdout",
     "output_type": "stream",
     "text": [
      "0 1 0 1 0 \n",
      "1 0 1 0 1 \n",
      "0 1 0 1 0 \n",
      "1 0 1 0 1 \n",
      "0 1 0 1 0 \n"
     ]
    }
   ],
   "source": [
    "for i in range (1,6):\n",
    "    for j in range (1,6):\n",
    "        if ((i==j or (i+j)%2==0)):\n",
    "            print('0',end=\" \")\n",
    "        else:\n",
    "            print('1',end=\" \")\n",
    "    print()"
   ]
  },
  {
   "cell_type": "code",
   "execution_count": 20,
   "metadata": {},
   "outputs": [
    {
     "name": "stdout",
     "output_type": "stream",
     "text": [
      "6\n",
      "1 0 0 0 1 \n",
      "0 2 0 2 0 \n",
      "0 0 3 0 0 \n",
      "0 4 0 4 0 \n",
      "5 0 0 0 5 \n"
     ]
    }
   ],
   "source": [
    "n=int(input())\n",
    "for i in range (1,n):\n",
    "    for j in range (1,n):\n",
    "        if ((i==j or (i+j)==n)):\n",
    "            print(i,end=\" \")\n",
    "        else:\n",
    "            print('0',end=\" \")\n",
    "    print()"
   ]
  },
  {
   "cell_type": "code",
   "execution_count": 21,
   "metadata": {},
   "outputs": [
    {
     "name": "stdout",
     "output_type": "stream",
     "text": [
      "6\n",
      "5 0 0 0 5 \n",
      "0 4 0 4 0 \n",
      "0 0 3 0 0 \n",
      "0 2 0 2 0 \n",
      "1 0 0 0 1 \n"
     ]
    }
   ],
   "source": [
    "n=int(input())\n",
    "for i in range (5,0,-1):\n",
    "    for j in range (5,0,-1):\n",
    "        if ((i==j or (i+j)==n)):\n",
    "            print(i,end=\" \")\n",
    "        else:\n",
    "            print('0',end=\" \")\n",
    "    print()"
   ]
  },
  {
   "cell_type": "code",
   "execution_count": 23,
   "metadata": {},
   "outputs": [
    {
     "name": "stdout",
     "output_type": "stream",
     "text": [
      "A B C D E \n",
      "A B C D E \n",
      "A B C D E \n",
      "A B C D E \n",
      "A B C D E \n"
     ]
    }
   ],
   "source": [
    "for i in range (65,70):\n",
    "    for j in range (65,70):\n",
    "        print(chr(j),end=\" \")\n",
    "    print()       "
   ]
  },
  {
   "cell_type": "code",
   "execution_count": 24,
   "metadata": {},
   "outputs": [
    {
     "name": "stdout",
     "output_type": "stream",
     "text": [
      "A A A A A \n",
      "B B B B B \n",
      "C C C C C \n",
      "D D D D D \n",
      "E E E E E \n"
     ]
    }
   ],
   "source": [
    "for i in range (65,70):\n",
    "    for j in range (65,70):\n",
    "        print(chr(i),end=\" \")\n",
    "    print()"
   ]
  },
  {
   "cell_type": "code",
   "execution_count": 25,
   "metadata": {},
   "outputs": [
    {
     "name": "stdout",
     "output_type": "stream",
     "text": [
      "E E E E E \n",
      "D D D D D \n",
      "C C C C C \n",
      "B B B B B \n",
      "A A A A A \n"
     ]
    }
   ],
   "source": [
    "for i in range (69,64,-1):\n",
    "    for j in range (69,64,-1):\n",
    "        print(chr(i),end=\" \")\n",
    "    print()"
   ]
  },
  {
   "cell_type": "code",
   "execution_count": 26,
   "metadata": {},
   "outputs": [
    {
     "name": "stdout",
     "output_type": "stream",
     "text": [
      "E D C B A \n",
      "E D C B A \n",
      "E D C B A \n",
      "E D C B A \n",
      "E D C B A \n"
     ]
    }
   ],
   "source": [
    "for i in range (69,64,-1):\n",
    "    for j in range (69,64,-1):\n",
    "        print(chr(j),end=\" \")\n",
    "    print()"
   ]
  },
  {
   "cell_type": "code",
   "execution_count": 27,
   "metadata": {},
   "outputs": [
    {
     "name": "stdout",
     "output_type": "stream",
     "text": [
      "* * * * * \n",
      "* * * * * \n",
      "* * * * * \n",
      "* * * * * \n",
      "* * * * * \n"
     ]
    }
   ],
   "source": [
    "for i in range (1,6):\n",
    "    for j in range (1,6):\n",
    "        print('*',end=\" \")\n",
    "    print()"
   ]
  },
  {
   "cell_type": "code",
   "execution_count": 56,
   "metadata": {},
   "outputs": [
    {
     "name": "stdout",
     "output_type": "stream",
     "text": [
      "* * * * * \n",
      "* * * * \n",
      "* * * \n",
      "* * \n",
      "* \n"
     ]
    }
   ],
   "source": [
    "for i in range (1,6):\n",
    "    for j in range (1,6):\n",
    "        if (i==j or i<j):\n",
    "            print('*',end=\" \")\n",
    "       \n",
    "            \n",
    "    print()"
   ]
  },
  {
   "cell_type": "code",
   "execution_count": 90,
   "metadata": {},
   "outputs": [
    {
     "name": "stdout",
     "output_type": "stream",
     "text": [
      "        * \n",
      "      * * \n",
      "    * * * \n",
      "  * * * * \n",
      "* * * * * \n"
     ]
    }
   ],
   "source": [
    "for j in range (1,6):\n",
    "    for i in range (5,0,-1): \n",
    "        if (i==j or i<j): \n",
    "            print('*',end=\" \") \n",
    "         \n",
    "        else:\n",
    "            print(\" \",end=\" \") \n",
    "             \n",
    "    print()  "
   ]
  },
  {
   "cell_type": "code",
   "execution_count": 89,
   "metadata": {},
   "outputs": [
    {
     "name": "stdout",
     "output_type": "stream",
     "text": [
      "    * \n",
      "   * * \n",
      "  * * * \n",
      " * * * * \n",
      "* * * * * \n"
     ]
    }
   ],
   "source": [
    "for j in range (1,6):\n",
    "    for i in range (5,0,-1):\n",
    "        if (i==j or i<j):\n",
    "            print('*',end=\" \")\n",
    "        \n",
    "        else:\n",
    "            print(\"\",end=\" \")\n",
    "            \n",
    "    print() "
   ]
  },
  {
   "cell_type": "code",
   "execution_count": 93,
   "metadata": {},
   "outputs": [
    {
     "name": "stdout",
     "output_type": "stream",
     "text": [
      "* * * * * \n",
      " * * * * \n",
      "  * * * \n",
      "   * * \n",
      "    * \n"
     ]
    }
   ],
   "source": [
    "for j in range (5,0,-1):\n",
    "    for i in range (5,0,-1):\n",
    "        if (i==j or i<j):\n",
    "            print('*',end=\" \")\n",
    "        \n",
    "        else:\n",
    "            print(\"\",end=\" \")\n",
    "            \n",
    "    print() "
   ]
  },
  {
   "cell_type": "code",
   "execution_count": 100,
   "metadata": {},
   "outputs": [
    {
     "name": "stdout",
     "output_type": "stream",
     "text": [
      "    * \n",
      "   * * \n",
      "  * * * \n",
      " * * * * \n",
      "* * * * * \n",
      "* * * * * \n",
      " * * * * \n",
      "  * * * \n",
      "   * * \n",
      "    * \n"
     ]
    }
   ],
   "source": [
    "for j in range (1,6):\n",
    "    for i in range (5,0,-1):\n",
    "        if (i==j or i<j):\n",
    "            print('*',end=\" \")\n",
    "        \n",
    "        else:\n",
    "            print(\"\",end=\" \")\n",
    "    print()\n",
    "for j in range (5,0,-1):\n",
    "    for i in range (5,0,-1):\n",
    "        if (i==j or i<j):\n",
    "            print('*',end=\" \")\n",
    "        \n",
    "        else:\n",
    "            print(\"\",end=\" \")\n",
    "            \n",
    "    print()             \n",
    "   "
   ]
  },
  {
   "cell_type": "code",
   "execution_count": 35,
   "metadata": {},
   "outputs": [
    {
     "name": "stdout",
     "output_type": "stream",
     "text": [
      "5\n",
      "*       * \n",
      "* *     * \n",
      "*   *   * \n",
      "*     * * \n",
      "*       * \n",
      "* * * * * \n",
      "*       * \n",
      "*       * \n",
      "*       * \n",
      "* * * * * \n"
     ]
    }
   ],
   "source": [
    "n=int(input())\n",
    "for i in range (1,6):\n",
    "    for j in range (1,6):\n",
    "        if ((i==j) or (j==n-4) or (j==n)):\n",
    "            print('*',end=\" \")\n",
    "        \n",
    "        else:\n",
    "            print(\" \",end=\" \")\n",
    "    print()\n",
    "\n",
    "for i in range (1,6):\n",
    "    for j in range (1,6):\n",
    "        if ((i==n) or (j==n-4) or (j==n)  or (i==n-4)):\n",
    "            print('*',end=\" \")\n",
    "\n",
    "        else:\n",
    "             print(\" \",end=\" \")\n",
    "    print()\n",
    "    "
   ]
  },
  {
   "cell_type": "markdown",
   "metadata": {},
   "source": [
    "A student will not be allowed to sit in exam if his/her attendence is less than 75%.\n",
    "Take following input from user\n",
    "Number of classes held\n",
    "Number of classes attended.\n",
    "And print\n",
    "percentage of class attended\n",
    "Is student is allowed to sit in exam or not."
   ]
  },
  {
   "cell_type": "code",
   "execution_count": 1,
   "metadata": {},
   "outputs": [
    {
     "name": "stdout",
     "output_type": "stream",
     "text": [
      "Number of classes held : 100\n",
      "Number of classes attended : 76\n",
      "76.0\n",
      "student is allowed to sit in exam\n"
     ]
    }
   ],
   "source": [
    "n1=int(input('Number of classes held : '))\n",
    "n2=int(input('Number of classes attended : '))\n",
    "per=(n2/n1)*100\n",
    "print(per)\n",
    "if (per>=75):\n",
    "    print(f'student is allowed to sit in exam')\n",
    "else:\n",
    "    print(f'student is not allowed to sit in exam')"
   ]
  },
  {
   "cell_type": "code",
   "execution_count": 4,
   "metadata": {},
   "outputs": [
    {
     "name": "stdout",
     "output_type": "stream",
     "text": [
      "Number of classes held : 100\n",
      "Number of classes attended : 60\n",
      "does student has a medical claim: Y\n",
      "60.0\n",
      "student is allowed to sit in exam\n"
     ]
    }
   ],
   "source": [
    "n1=int(input('Number of classes held : '))\n",
    "n2=int(input('Number of classes attended : '))\n",
    "n3=input('does student has a medical claim: ')\n",
    "\n",
    "per=(n2/n1)*100\n",
    "print(per)\n",
    "if (n3=='Y'):\n",
    "    print(f'student is allowed to sit in exam')\n",
    "else:\n",
    "    print(f'student is not allowed to sit in exam')\n",
    "\n"
   ]
  },
  {
   "cell_type": "markdown",
   "metadata": {},
   "source": [
    "Write a program to check if a year is leap year or not.\n",
    "If a year is divisible by 4 then it is leap year but if the year is century year like 2000, 1900, 2100 then it must be divisible by 400."
   ]
  },
  {
   "cell_type": "code",
   "execution_count": 10,
   "metadata": {},
   "outputs": [
    {
     "name": "stdout",
     "output_type": "stream",
     "text": [
      "Entar the year : 2000\n",
      "The given year is a leap year\n"
     ]
    }
   ],
   "source": [
    "n=int(input('Entar the year : ')) \n",
    "if n%4==0 or n%400==0:\n",
    "    print(f'The given year is a leap year') \n",
    "else:\n",
    "    print('invalid') \n",
    "    "
   ]
  },
  {
   "cell_type": "markdown",
   "metadata": {},
   "source": [
    "Ask user to enter age, sex ( M or F ), marital status ( Y or N ) and then using following rules print their place of service.\n",
    "if employee is female, then she will work only in urban areas.\n",
    "\n",
    "if employee is a male and age is in between 20 to 40 then he may work in anywhere\n",
    "\n",
    "if employee is male and age is in between 40 t0 60 then he will work in urban areas only.\n",
    "\n",
    "And any other input of age should print \"ERROR\"."
   ]
  },
  {
   "cell_type": "code",
   "execution_count": 1,
   "metadata": {},
   "outputs": [
    {
     "name": "stdout",
     "output_type": "stream",
     "text": [
      "enter the age : 55\n",
      "enter the sex : M\n",
      "enter the marital status : Y\n",
      "Error\n"
     ]
    }
   ],
   "source": [
    "n1=int(input('enter the age : '))\n",
    "n2=(input('enter the sex : '))\n",
    "n3=(input('enter the marital status : '))\n",
    "n2='M','F'\n",
    "n3='Y','N'\n",
    "if n1>=20 and n1<=40 and n2=='M' and n3=='Y':\n",
    "    print(f'he may work in anywhere')\n",
    "elif  n1>=40 and n1<=60 and n2=='M' and n3=='Y':\n",
    "    print(f'he will work in urban areas only')\n",
    "else:\n",
    "    print('Error')"
   ]
  },
  {
   "cell_type": "code",
   "execution_count": 6,
   "metadata": {},
   "outputs": [
    {
     "name": "stdout",
     "output_type": "stream",
     "text": [
      "6\n",
      "1 1 1 1 1 \n",
      "2 2 2 2 \n",
      "3 3 3 \n",
      "4 4 \n",
      "5 \n"
     ]
    }
   ],
   "source": [
    "n=int(input())\n",
    "for i in range (1,6):\n",
    "    for j in range (1,6):\n",
    "        if ((i+j)<=n):\n",
    "            print(i,end=\" \")\n",
    "    print()"
   ]
  },
  {
   "cell_type": "code",
   "execution_count": 13,
   "metadata": {},
   "outputs": [
    {
     "name": "stdout",
     "output_type": "stream",
     "text": [
      "1 \n",
      "1 2 \n",
      "1 2 3 \n",
      "1 2 3 4 \n",
      "1 2 3 4 5 \n"
     ]
    }
   ],
   "source": [
    "#n=int(input())\n",
    "for j in range (1,6):\n",
    "    for i in range (1,6):\n",
    "        if (i<j or i==j):\n",
    "            print(i,end=\" \") \n",
    "    print()     "
   ]
  },
  {
   "cell_type": "code",
   "execution_count": 16,
   "metadata": {},
   "outputs": [
    {
     "name": "stdout",
     "output_type": "stream",
     "text": [
      "5 5 5 5 5 \n",
      "4 4 4 4 \n",
      "3 3 3 \n",
      "2 2 \n",
      "1 \n"
     ]
    }
   ],
   "source": [
    "for j in range (5,0,-1):\n",
    "    for i in range (5,0,-1):\n",
    "        if (i<j or i==j):\n",
    "            print(j,end=\" \") \n",
    "    print()"
   ]
  },
  {
   "cell_type": "code",
   "execution_count": 17,
   "metadata": {},
   "outputs": [
    {
     "name": "stdout",
     "output_type": "stream",
     "text": [
      "5 5 5 5 5 \n",
      "5 5 5 5 \n",
      "5 5 5 \n",
      "5 5 \n",
      "5 \n"
     ]
    }
   ],
   "source": [
    "for j in range (5,0,-1):\n",
    "    for i in range (5,0,-1):\n",
    "        if (i<j or i==j):\n",
    "            print('5',end=\" \") \n",
    "    print()"
   ]
  },
  {
   "cell_type": "code",
   "execution_count": 10,
   "metadata": {},
   "outputs": [
    {
     "name": "stdout",
     "output_type": "stream",
     "text": [
      "1 \n",
      "2 1 \n",
      "3 2 1 \n",
      "4 3 2 1 \n",
      "5 4 3 2 1 \n"
     ]
    }
   ],
   "source": [
    "for i in range (1,6):\n",
    "    for j in range (i,0,-1):\n",
    "        print(j,end=\" \")\n",
    "    print()"
   ]
  },
  {
   "cell_type": "code",
   "execution_count": 11,
   "metadata": {},
   "outputs": [
    {
     "name": "stdout",
     "output_type": "stream",
     "text": [
      "6\n",
      "0 1 2 3 4 5 \n",
      "0 1 2 3 4 \n",
      "0 1 2 3 \n",
      "0 1 2 \n",
      "0 1 \n"
     ]
    }
   ],
   "source": [
    "n=int(input())\n",
    "for i in range (1,6):\n",
    "    for j in range (0,6):\n",
    "        if i+j<=n:\n",
    "            print(j,end=\" \")\n",
    "        \n",
    "    print()"
   ]
  },
  {
   "cell_type": "code",
   "execution_count": 19,
   "metadata": {},
   "outputs": [
    {
     "name": "stdout",
     "output_type": "stream",
     "text": [
      "1 \n",
      "2 3 4 \n",
      "5 6 7 8 9 \n"
     ]
    }
   ],
   "source": [
    "n=1\n",
    "m=2\n",
    "for i in range (1,4):\n",
    "    for j in range (1,m):\n",
    "        print(n,end=\" \")\n",
    "        n+=1\n",
    "         \n",
    "         \n",
    "           \n",
    "        \n",
    "    print()\n",
    "    m+=2"
   ]
  },
  {
   "cell_type": "code",
   "execution_count": 30,
   "metadata": {},
   "outputs": [
    {
     "name": "stdout",
     "output_type": "stream",
     "text": [
      "\n",
      "1 \n",
      "1 2 1 \n",
      "1 2 3 2 1 \n",
      "1 2 3 4 3 2 1 \n",
      "1 2 3 4 5 4 3 2 1 \n"
     ]
    }
   ],
   "source": [
    "rows = 6\n",
    "\n",
    "for i in range(1, rows + 1):\n",
    "\n",
    "    for j in range(1, i-1):\n",
    "\n",
    "        print(j, end=\" \")\n",
    "\n",
    "    for j in range(i-1, 0, -1):\n",
    "\n",
    "        print(j, end=\" \")\n",
    "\n",
    "    print() "
   ]
  },
  {
   "cell_type": "code",
   "execution_count": 2,
   "metadata": {},
   "outputs": [
    {
     "name": "stdout",
     "output_type": "stream",
     "text": [
      "120\n"
     ]
    }
   ],
   "source": [
    "#Write a Python function to multiply all the numbers in a list.\n",
    "def multi(numbers):\n",
    "    total=1\n",
    "    for x in numbers:\n",
    "        total*=x\n",
    "    return total\n",
    "print(multi((1,2,3,4,5)))\n"
   ]
  },
  {
   "cell_type": "code",
   "execution_count": 6,
   "metadata": {},
   "outputs": [
    {
     "name": "stdout",
     "output_type": "stream",
     "text": [
      "3\n"
     ]
    }
   ],
   "source": [
    "#Write a Python program to reverse a string??\n",
    "def reve(str1):\n",
    "    rever1=''\n",
    "    index = len(str1)\n",
    "    while index > 0:\n",
    "        rstr1 += str1[ index - 1 ]\n",
    "        index = index - 1\n",
    "    return rstr1\n",
    "\n",
    "print(reve((\"hagvdhgv123\")))\n",
    "    "
   ]
  },
  {
   "cell_type": "code",
   "execution_count": 4,
   "metadata": {},
   "outputs": [
    {
     "data": {
      "text/plain": [
       "[5, 4, 3, 2, 1]"
      ]
     },
     "execution_count": 4,
     "metadata": {},
     "output_type": "execute_result"
    }
   ],
   "source": [
    "a=[1,2,3,4,5]\n",
    "a[::-1]"
   ]
  },
  {
   "cell_type": "code",
   "execution_count": 1,
   "metadata": {},
   "outputs": [],
   "source": [
    "x=\"pqr\""
   ]
  },
  {
   "cell_type": "code",
   "execution_count": 8,
   "metadata": {},
   "outputs": [
    {
     "data": {
      "text/plain": [
       "'PQR'"
      ]
     },
     "execution_count": 8,
     "metadata": {},
     "output_type": "execute_result"
    }
   ],
   "source": [
    "x.upper()"
   ]
  },
  {
   "cell_type": "markdown",
   "metadata": {},
   "source": [
    "1) Accept three numbers from the user and find the largest and smallest amongst them. Also find the difference between the largest and smallest number obtained. Also calculate how much percent is smallest number of largest number.<br>\n",
    "2) Accept a students marks from the user and display result as per the condition given below:\n",
    "a) marks in between 0-30, display 'Fail'\n",
    "b) marks in between 30-50,display 'Just Pass'\n",
    "c) marks in between 50-70,display 'Average'\n",
    "d) marks in between 70-90,display 'Good'\n",
    "e) marks in between 90-100,display 'Outstanding'\n",
    "f) marks below 0 and marks above 100, display 'Invalid marks'<br>\n",
    "3) For a given user entered number, if the number is between 1-100, find 20% of the number, if the number is between 100-300, find 30% of the number, if the number is between 300-700, find 40% of the number and if the number is between 700-1000, find 50% of the number. print invalid number otherwise."
   ]
  },
  {
   "cell_type": "code",
   "execution_count": 3,
   "metadata": {},
   "outputs": [
    {
     "name": "stdout",
     "output_type": "stream",
     "text": [
      "Enter the number: 750\n",
      "375.0\n"
     ]
    }
   ],
   "source": [
    "a=int(input('Enter the number: '))\n",
    "if (a>=1 and a<=100):\n",
    "    b=a*.20\n",
    "    print(b)\n",
    "elif (a>=100 and a<=300):\n",
    "    b=a*.30\n",
    "    print(b)\n",
    "elif (a>=300 and a<=700):\n",
    "    b=a*.40\n",
    "    print(b)\n",
    "elif (a>=700 and a<=1000):\n",
    "    b=a*.50\n",
    "    print(b)"
   ]
  },
  {
   "cell_type": "code",
   "execution_count": 17,
   "metadata": {},
   "outputs": [
    {
     "name": "stdout",
     "output_type": "stream",
     "text": [
      "Enter the marks of student: 105\n",
      "not valid\n"
     ]
    }
   ],
   "source": [
    "a=int(input('Enter the marks of student: '))\n",
    "if (a>=0 and a<=30):\n",
    "    print('fail')\n",
    "elif (a>=31 and a<=50):\n",
    "    print('Just Pass')\n",
    "elif (a>=50 and a<=70):\n",
    "    print('Average')\n",
    "elif (a>=70 and a<=90):\n",
    "    print('Good')\n",
    "elif (a>=90 and a<=100):\n",
    "    print('Outstanding')\n",
    "else:\n",
    "    print('not valid')"
   ]
  },
  {
   "cell_type": "code",
   "execution_count": 16,
   "metadata": {},
   "outputs": [
    {
     "name": "stdout",
     "output_type": "stream",
     "text": [
      "Enter the first number: 105\n",
      "Enter the second number: 45\n",
      "Enter the third number: 78\n",
      "105 is largest\n",
      "45 is smallest\n",
      "difference of 105 and 45 is 60\n",
      "42.857142857142854\n"
     ]
    }
   ],
   "source": [
    "a=int(input('Enter the first number: '))\n",
    "b=int(input('Enter the second number: '))\n",
    "c=int(input('Enter the third number: '))\n",
    "small,large=0,0\n",
    "if (a>b and a>c):\n",
    "    large=a\n",
    "elif (b>a and b>c):\n",
    "    large=b\n",
    "else:\n",
    "    large=c\n",
    "if (a<b and a<c):\n",
    "    small=a\n",
    "elif(b<a and c>b):\n",
    "    small=b\n",
    "else:\n",
    "    small=c\n",
    "diff=(large-small)\n",
    "print(f'{large} is largest')\n",
    "print(f'{small} is smallest')\n",
    "print(f'difference of {large} and {small} is {diff}')\n",
    "per=(small/large)*100\n",
    "print(per)\n"
   ]
  },
  {
   "cell_type": "code",
   "execution_count": 3,
   "metadata": {},
   "outputs": [
    {
     "name": "stdout",
     "output_type": "stream",
     "text": [
      "1 1 1 1 1 \n",
      "2 2 2 2 2 \n",
      "3 3 3 3 3 \n",
      "4 4 4 4 4 \n",
      "5 5 5 5 5 \n"
     ]
    }
   ],
   "source": [
    "for i in range (1,6):\n",
    "    for j in range (1,6):\n",
    "        print(i,end=\" \")\n",
    "    print()"
   ]
  },
  {
   "cell_type": "code",
   "execution_count": 4,
   "metadata": {},
   "outputs": [
    {
     "name": "stdout",
     "output_type": "stream",
     "text": [
      "1 2 3 4 5 \n",
      "1 2 3 4 5 \n",
      "1 2 3 4 5 \n",
      "1 2 3 4 5 \n",
      "1 2 3 4 5 \n"
     ]
    }
   ],
   "source": [
    "for i in range (1,6):\n",
    "    for j in range (1,6):\n",
    "        print(j,end=\" \")\n",
    "    print()"
   ]
  },
  {
   "cell_type": "code",
   "execution_count": 6,
   "metadata": {},
   "outputs": [
    {
     "name": "stdout",
     "output_type": "stream",
     "text": [
      "5 5 5 5 5 \n",
      "4 4 4 4 4 \n",
      "3 3 3 3 3 \n",
      "2 2 2 2 2 \n",
      "1 1 1 1 1 \n"
     ]
    }
   ],
   "source": [
    "for i in range (5,0,-1):\n",
    "    for j in range (5,0,-1):\n",
    "        print(i,end=\" \")\n",
    "    print()"
   ]
  },
  {
   "cell_type": "code",
   "execution_count": 8,
   "metadata": {},
   "outputs": [
    {
     "name": "stdout",
     "output_type": "stream",
     "text": [
      "5 4 3 2 1 \n",
      "5 4 3 2 1 \n",
      "5 4 3 2 1 \n",
      "5 4 3 2 1 \n",
      "5 4 3 2 1 \n"
     ]
    }
   ],
   "source": [
    "for i in range (5,0,-1):\n",
    "    for j in range (5,0,-1):\n",
    "        print(j,end=\" \")\n",
    "    print()"
   ]
  },
  {
   "cell_type": "code",
   "execution_count": 15,
   "metadata": {},
   "outputs": [
    {
     "name": "stdout",
     "output_type": "stream",
     "text": [
      "enter a number : 5\n",
      "1 0 0 0 0 \n",
      "1 1 0 0 0 \n",
      "1 1 1 0 0 \n",
      "1 1 1 1 0 \n",
      "1 1 1 1 1 \n"
     ]
    }
   ],
   "source": [
    "n= int (input ('enter a number : '))\n",
    "for i in range (1,n+1):\n",
    "    for j in range (1,6):\n",
    "        if (i>=j):\n",
    "            print(1,end=\" \")\n",
    "        else:\n",
    "            print(0,end=\" \")\n",
    "    print()"
   ]
  },
  {
   "cell_type": "code",
   "execution_count": 29,
   "metadata": {},
   "outputs": [
    {
     "name": "stdout",
     "output_type": "stream",
     "text": [
      "0 1 0 1 0 \n",
      "1 0 1 0 1 \n",
      "0 1 0 1 0 \n",
      "1 0 1 0 1 \n",
      "0 1 0 1 0 \n"
     ]
    }
   ],
   "source": [
    "for i in range (1,6):\n",
    "    for j in range (1,6):\n",
    "        if ((i+j)%2==0 or i==j):\n",
    "            print('0',end=\" \")\n",
    "        else:\n",
    "            print('1',end=\" \")\n",
    "    print()"
   ]
  },
  {
   "cell_type": "code",
   "execution_count": 34,
   "metadata": {},
   "outputs": [
    {
     "name": "stdout",
     "output_type": "stream",
     "text": [
      "enter a number : 6\n",
      "1 0 0 0 1 \n",
      "0 2 0 2 0 \n",
      "0 0 3 0 0 \n",
      "0 4 0 4 0 \n",
      "5 0 0 0 5 \n"
     ]
    }
   ],
   "source": [
    "n=int(input('enter a number : '))\n",
    "for i in range (1,6):\n",
    "    for j in range (1,6):\n",
    "        if ((i+j)==n or i==j):\n",
    "            print(i,end=\" \")\n",
    "        else:\n",
    "            print('0',end=\" \")\n",
    "    print()"
   ]
  },
  {
   "cell_type": "code",
   "execution_count": 35,
   "metadata": {},
   "outputs": [
    {
     "name": "stdout",
     "output_type": "stream",
     "text": [
      "enter a number : 6\n",
      "5 0 0 0 5 \n",
      "0 4 0 4 0 \n",
      "0 0 3 0 0 \n",
      "0 2 0 2 0 \n",
      "1 0 0 0 1 \n"
     ]
    }
   ],
   "source": [
    "n=int(input('enter a number : '))\n",
    "for i in range (5,0,-1):\n",
    "    for j in range (5,0,-1):\n",
    "        if ((i+j)==n or i==j):\n",
    "            print(i,end=\" \")\n",
    "        else:\n",
    "            print('0',end=\" \")\n",
    "    print()"
   ]
  },
  {
   "cell_type": "code",
   "execution_count": 36,
   "metadata": {},
   "outputs": [
    {
     "name": "stdout",
     "output_type": "stream",
     "text": [
      "A A A A A \n",
      "B B B B B \n",
      "C C C C C \n",
      "D D D D D \n",
      "E E E E E \n"
     ]
    }
   ],
   "source": [
    "for i in range (65,70):\n",
    "    for j in range (65,70):\n",
    "        print(chr(i),end=\" \")\n",
    "    print()"
   ]
  },
  {
   "cell_type": "code",
   "execution_count": 37,
   "metadata": {},
   "outputs": [
    {
     "name": "stdout",
     "output_type": "stream",
     "text": [
      "A B C D E \n",
      "A B C D E \n",
      "A B C D E \n",
      "A B C D E \n",
      "A B C D E \n"
     ]
    }
   ],
   "source": [
    "for i in range (65,70):\n",
    "    for j in range (65,70):\n",
    "        print(chr(j),end=\" \")\n",
    "    print()"
   ]
  },
  {
   "cell_type": "code",
   "execution_count": 38,
   "metadata": {},
   "outputs": [
    {
     "name": "stdout",
     "output_type": "stream",
     "text": [
      "E E E E E \n",
      "D D D D D \n",
      "C C C C C \n",
      "B B B B B \n",
      "A A A A A \n"
     ]
    }
   ],
   "source": [
    "for i in range (69,64,-1):\n",
    "    for j in range (65,70):\n",
    "        print(chr(i),end=\" \")\n",
    "    print()"
   ]
  },
  {
   "cell_type": "code",
   "execution_count": 40,
   "metadata": {},
   "outputs": [
    {
     "name": "stdout",
     "output_type": "stream",
     "text": [
      "E D C B A \n",
      "E D C B A \n",
      "E D C B A \n",
      "E D C B A \n",
      "E D C B A \n"
     ]
    }
   ],
   "source": [
    "for i in range (69,64,-1):\n",
    "    for j in range (69,64,-1):\n",
    "        print(chr(j),end=\" \")\n",
    "    print()"
   ]
  },
  {
   "cell_type": "code",
   "execution_count": 41,
   "metadata": {},
   "outputs": [
    {
     "name": "stdout",
     "output_type": "stream",
     "text": [
      "x x x x x \n",
      "x x x x x \n",
      "x x x x x \n",
      "x x x x x \n",
      "x x x x x \n"
     ]
    }
   ],
   "source": [
    "for i in range (1,6):\n",
    "    for j in range (1,6):\n",
    "        print('x',end=\" \")\n",
    "    print()"
   ]
  },
  {
   "cell_type": "code",
   "execution_count": 54,
   "metadata": {},
   "outputs": [
    {
     "name": "stdout",
     "output_type": "stream",
     "text": [
      "enter a number : 6\n",
      "x x x x x \n",
      "x x x x   \n",
      "x x x     \n",
      "x x       \n",
      "x         \n"
     ]
    }
   ],
   "source": [
    "n=int(input('enter a number : '))\n",
    "for i in range (1,6):\n",
    "    for j in range (1,6):\n",
    "        if (i+j<=n):\n",
    "            print('x',end=\" \")\n",
    "        else:\n",
    "            print(' ',end=\" \")\n",
    "        \n",
    "        \n",
    "    print()"
   ]
  },
  {
   "cell_type": "code",
   "execution_count": 47,
   "metadata": {},
   "outputs": [
    {
     "name": "stdout",
     "output_type": "stream",
     "text": [
      "enter a number : 6\n",
      "x x x x x \n",
      "  x x x x \n",
      "    x x x \n",
      "      x x \n",
      "        x \n"
     ]
    }
   ],
   "source": [
    "n=int(input('enter a number : '))\n",
    "for i in range (1,6):\n",
    "    for j in range (5,0,-1):\n",
    "        if (i+j<=n):\n",
    "            print('x',end=\" \")\n",
    "        else:\n",
    "            print(' ',end=\" \")\n",
    "    print()"
   ]
  },
  {
   "cell_type": "code",
   "execution_count": 48,
   "metadata": {},
   "outputs": [
    {
     "name": "stdout",
     "output_type": "stream",
     "text": [
      "enter a number : 6\n",
      "        x \n",
      "      x x \n",
      "    x x x \n",
      "  x x x x \n",
      "x x x x x \n"
     ]
    }
   ],
   "source": [
    "n=int(input('enter a number : '))\n",
    "for i in range (5,0,-1):\n",
    "    for j in range (5,0,-1):\n",
    "        if (i+j<=n):\n",
    "            print('x',end=\" \")\n",
    "        else:\n",
    "            print(' ',end=\" \")\n",
    "    print()"
   ]
  },
  {
   "cell_type": "code",
   "execution_count": 49,
   "metadata": {},
   "outputs": [
    {
     "name": "stdout",
     "output_type": "stream",
     "text": [
      "enter a number : 6\n",
      "    x \n",
      "   x x \n",
      "  x x x \n",
      " x x x x \n",
      "x x x x x \n"
     ]
    }
   ],
   "source": [
    "n=int(input('enter a number : '))\n",
    "for i in range (5,0,-1):\n",
    "    for j in range (5,0,-1):\n",
    "        if (i+j<=n):\n",
    "            print('x',end=\" \")\n",
    "        else:\n",
    "            print('',end=\" \")\n",
    "    print()"
   ]
  },
  {
   "cell_type": "code",
   "execution_count": 52,
   "metadata": {},
   "outputs": [
    {
     "name": "stdout",
     "output_type": "stream",
     "text": [
      "enter a number : 6\n",
      "x x x x x \n",
      " x x x x \n",
      "  x x x \n",
      "   x x \n",
      "    x \n"
     ]
    }
   ],
   "source": [
    "n=int(input('enter a number : '))\n",
    "for i in range (1,6):\n",
    "    for j in range (5,0,-1):\n",
    "        if (i+j<=n):\n",
    "            print('x',end=\" \")\n",
    "        else:\n",
    "            print('',end=\" \")\n",
    "    print()"
   ]
  },
  {
   "cell_type": "code",
   "execution_count": 53,
   "metadata": {},
   "outputs": [
    {
     "name": "stdout",
     "output_type": "stream",
     "text": [
      "enter a number : 6\n",
      "x     \n",
      "x x    \n",
      "x x x   \n",
      "x x x x  \n",
      "x x x x x \n"
     ]
    }
   ],
   "source": [
    "n=int(input('enter a number : '))\n",
    "for i in range (1,6):\n",
    "    for j in range (5,0,-1):\n",
    "        if (i+j>=n):\n",
    "            print('x',end=\" \")\n",
    "        else:\n",
    "            print('',end=\" \")\n",
    "    print()"
   ]
  },
  {
   "cell_type": "code",
   "execution_count": 1,
   "metadata": {},
   "outputs": [
    {
     "name": "stdout",
     "output_type": "stream",
     "text": [
      "enter a number : 6\n",
      "    x \n",
      "   x x \n",
      "  x x x \n",
      " x x x x \n",
      "x x x x x \n",
      "x x x x x \n",
      " x x x x \n",
      "  x x x \n",
      "   x x \n",
      "    x \n"
     ]
    }
   ],
   "source": [
    "n=int(input('enter a number : '))\n",
    "for i in range (5,0,-1):\n",
    "    for j in range (5,0,-1):\n",
    "        if (i+j<=n):\n",
    "            print('x',end=\" \")\n",
    "        else:\n",
    "            print('',end=\" \")\n",
    "    print()\n",
    "for i in range (1,6):\n",
    "    for j in range (5,0,-1):\n",
    "        if (i+j<=n):\n",
    "            print('x',end=\" \")\n",
    "        else:\n",
    "            print('',end=\" \")\n",
    "    print()"
   ]
  },
  {
   "cell_type": "code",
   "execution_count": 12,
   "metadata": {},
   "outputs": [
    {
     "name": "stdout",
     "output_type": "stream",
     "text": [
      "enter a number : 5\n",
      "x       x \n",
      "x x     x \n",
      "x   x   x \n",
      "x     x x \n",
      "x       x \n",
      "x x x x x \n",
      "x       x \n",
      "x       x \n",
      "x       x \n",
      "x x x x x \n"
     ]
    }
   ],
   "source": [
    "n=int(input('enter a number : '))\n",
    "for i in range (1,6):\n",
    "    for j in range (1,6):\n",
    "        if ((j==n-4) or (i==j) or (j==n)):\n",
    "            print('x',end=\" \")\n",
    "        else:\n",
    "            print(' ',end=\" \")\n",
    "    print()\n",
    "for i in range (1,6):\n",
    "    for j in range (1,6):\n",
    "        if ((j==n-4) or (j==n) or (i==n-4) or (i==n)):\n",
    "            print('x',end=\" \")\n",
    "        else:\n",
    "            print(' ',end=\" \")\n",
    "    print()"
   ]
  },
  {
   "cell_type": "code",
   "execution_count": 16,
   "metadata": {},
   "outputs": [
    {
     "name": "stdout",
     "output_type": "stream",
     "text": [
      "  x x   x x   \n",
      "x     x     x \n",
      "x           x \n",
      "  x       x   \n",
      "    x   x     \n",
      "      x       \n"
     ]
    }
   ],
   "source": [
    "for i in range (0,6):\n",
    "    for j in range (0,7):\n",
    "        if ((i+j==8) or (i==0 and j%3!=0) or (i==1 and j%3==0) or (i-j==2) ):\n",
    "            print('x',end=\" \")\n",
    "        else:\n",
    "            print(\" \",end=\" \")\n",
    "    print()      "
   ]
  },
  {
   "cell_type": "code",
   "execution_count": 26,
   "metadata": {},
   "outputs": [
    {
     "name": "stdout",
     "output_type": "stream",
     "text": [
      "        1 \n",
      "      2 1 \n",
      "    3 2 1 \n",
      "  4 3 2 1 \n",
      "5 4 3 2 1 \n"
     ]
    }
   ],
   "source": [
    "for i in range (1,6):\n",
    "    for j in range (5,0,-1):\n",
    "        if (j<=i):\n",
    "            print(j,end=\" \")\n",
    "        else:\n",
    "            print(\" \",end=\" \")\n",
    "        \n",
    "    print()"
   ]
  },
  {
   "cell_type": "code",
   "execution_count": 31,
   "metadata": {},
   "outputs": [
    {
     "name": "stdout",
     "output_type": "stream",
     "text": [
      "1 1 1 1 1 \n",
      "2 2 2 2   \n",
      "3 3 3     \n",
      "4 4       \n",
      "5         \n"
     ]
    }
   ],
   "source": [
    "for i in range (1,6):\n",
    "    for j in range (5,0,-1):\n",
    "        if (i<=j):\n",
    "            print(i,end=\" \")\n",
    "        else:\n",
    "            print(\" \",end=\" \")\n",
    "        \n",
    "    print()"
   ]
  },
  {
   "cell_type": "code",
   "execution_count": 35,
   "metadata": {},
   "outputs": [
    {
     "name": "stdout",
     "output_type": "stream",
     "text": [
      "1 2 3 4 5 \n",
      "  2 3 4 5 \n",
      "    3 4 5 \n",
      "      4 5 \n",
      "        5 \n"
     ]
    }
   ],
   "source": [
    "for i in range (1,6):\n",
    "    for j in range (1,6):\n",
    "        if (i==j or i<j):\n",
    "            print(j,end=\" \")\n",
    "        else:\n",
    "            print(\" \",end=\" \")\n",
    "        \n",
    "    print()"
   ]
  },
  {
   "cell_type": "code",
   "execution_count": 39,
   "metadata": {},
   "outputs": [
    {
     "name": "stdout",
     "output_type": "stream",
     "text": [
      "1         \n",
      "1 2       \n",
      "1 2 3     \n",
      "1 2 3 4   \n",
      "1 2 3 4 5 \n"
     ]
    }
   ],
   "source": [
    "for i in range (1,6):\n",
    "    for j in range (1,6):\n",
    "        if (j<=i):\n",
    "            print(j,end=\" \")\n",
    "        else:\n",
    "            print(\" \",end=\" \")\n",
    "        \n",
    "    print()"
   ]
  },
  {
   "cell_type": "code",
   "execution_count": 40,
   "metadata": {},
   "outputs": [
    {
     "name": "stdout",
     "output_type": "stream",
     "text": [
      "5 5 5 5 5 \n",
      "4 4 4 4   \n",
      "3 3 3     \n",
      "2 2       \n",
      "1         \n"
     ]
    }
   ],
   "source": [
    "for i in range (5,0,-1):\n",
    "    for j in range (1,6):\n",
    "        if (j<=i):\n",
    "            print(i,end=\" \")\n",
    "        else:\n",
    "            print(\" \",end=\" \")\n",
    "        \n",
    "    print()"
   ]
  },
  {
   "cell_type": "code",
   "execution_count": 48,
   "metadata": {},
   "outputs": [
    {
     "name": "stdout",
     "output_type": "stream",
     "text": [
      "1 \n",
      "2 1 \n",
      "3 2 1 \n",
      "4 3 2 1 \n",
      "5 4 3 2 1 \n"
     ]
    }
   ],
   "source": [
    "for i in range (1,6):\n",
    "    for j in range (i,0,-1):\n",
    "        \n",
    "           \n",
    "            print(j,end=\" \")\n",
    "            \n",
    "        \n",
    "        \n",
    "    print()"
   ]
  },
  {
   "cell_type": "code",
   "execution_count": 49,
   "metadata": {},
   "outputs": [
    {
     "name": "stdout",
     "output_type": "stream",
     "text": [
      "1 \n",
      "2 3 4 \n",
      "5 6 7 8 9 \n"
     ]
    }
   ],
   "source": [
    "n=1\n",
    "m=2\n",
    "for i in range (1,4):\n",
    "    for j in range (1,m):\n",
    "        print(n,end=\" \")\n",
    "        n+=1\n",
    "    print()\n",
    "    m+=2\n",
    "        "
   ]
  },
  {
   "cell_type": "code",
   "execution_count": 55,
   "metadata": {},
   "outputs": [
    {
     "name": "stdout",
     "output_type": "stream",
     "text": [
      "15 \n",
      "14 13 \n",
      "12 11 10 \n",
      "9 8 7 6 \n",
      "5 4 3 2 1 \n"
     ]
    }
   ],
   "source": [
    "n=15\n",
    "m=2\n",
    "for i in range (1,6):\n",
    "    for j in range (1,m):\n",
    "        print(n,end=\" \")\n",
    "        n-=1\n",
    "    print()\n",
    "    m+=1"
   ]
  },
  {
   "cell_type": "code",
   "execution_count": null,
   "metadata": {},
   "outputs": [],
   "source": []
  }
 ],
 "metadata": {
  "kernelspec": {
   "display_name": "Python 3 (ipykernel)",
   "language": "python",
   "name": "python3"
  },
  "language_info": {
   "codemirror_mode": {
    "name": "ipython",
    "version": 3
   },
   "file_extension": ".py",
   "mimetype": "text/x-python",
   "name": "python",
   "nbconvert_exporter": "python",
   "pygments_lexer": "ipython3",
   "version": "3.9.12"
  }
 },
 "nbformat": 4,
 "nbformat_minor": 4
}
