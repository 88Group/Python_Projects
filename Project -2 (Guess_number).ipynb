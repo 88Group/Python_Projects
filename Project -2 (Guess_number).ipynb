{
 "cells": [
  {
   "cell_type": "code",
   "execution_count": 1,
   "id": "e2dd0035",
   "metadata": {},
   "outputs": [],
   "source": [
    "import random"
   ]
  },
  {
   "cell_type": "code",
   "execution_count": 2,
   "id": "a6ccb20b",
   "metadata": {},
   "outputs": [
    {
     "name": "stdout",
     "output_type": "stream",
     "text": [
      "31\n"
     ]
    }
   ],
   "source": [
    "number = random.randrange(1,100)\n",
    "print(number)"
   ]
  },
  {
   "cell_type": "code",
   "execution_count": 8,
   "id": "b92ca27b",
   "metadata": {},
   "outputs": [
    {
     "name": "stdout",
     "output_type": "stream",
     "text": [
      "Guess a number between 1 & 100: 79\n",
      "You need to guess higher.Try again\n",
      "\n",
      "Guess a number between 1 & 100: 82\n",
      "You need to guess lower.Try again\n",
      "\n",
      "Guess a number between 1 & 100: 80\n",
      "You need to guess higher.Try again\n",
      "\n",
      "Guess a number between 1 & 100: 80\n",
      "You need to guess higher.Try again\n",
      "\n",
      "Guess a number between 1 & 100: 81\n",
      " You guess the number correctly!\n"
     ]
    }
   ],
   "source": [
    "guess=int(input(\"Guess a number between 1 & 100: \"))\n",
    "while guess!=number:\n",
    "    if guess<number:\n",
    "        print(\"You need to guess higher.Try again\")\n",
    "        guess=int(input(\"\\nGuess a number between 1 & 100: \"))\n",
    "    else:\n",
    "        print(\"You need to guess lower.Try again\")\n",
    "        guess=int(input(\"\\nGuess a number between 1 & 100: \"))\n",
    "print(\" You guess the number correctly!\")"
   ]
  },
  {
   "cell_type": "code",
   "execution_count": 74,
   "id": "d728c421",
   "metadata": {},
   "outputs": [
    {
     "name": "stdout",
     "output_type": "stream",
     "text": [
      "Collecting PySimpleGuiNote: you may need to restart the kernel to use updated packages.\n",
      "  Downloading PySimpleGUI-4.51.2-py3-none-any.whl (372 kB)\n",
      "Installing collected packages: PySimpleGui\n",
      "Successfully installed PySimpleGui-4.51.2\n",
      "\n"
     ]
    }
   ],
   "source": [
    "pip install PySimpleGui"
   ]
  },
  {
   "cell_type": "code",
   "execution_count": 77,
   "id": "377f78b9",
   "metadata": {},
   "outputs": [
    {
     "name": "stdout",
     "output_type": "stream",
     "text": [
      "\n",
      "Shift_L:16\n",
      "None\n"
     ]
    }
   ],
   "source": [
    "\n",
    "\n",
    "import PySimpleGUI as sg \n",
    "\n",
    "# default settings\n",
    "bw: dict = {'size':(7,2), 'font':('Franklin Gothic Book', 24), 'button_color':(\"black\",\"#F8F8F8\")}\n",
    "bt: dict = {'size':(7,2), 'font':('Franklin Gothic Book', 24), 'button_color':(\"black\",\"#F1EABC\")}\n",
    "bo: dict = {'size':(16,2), 'font':('Franklin Gothic Book', 24), 'button_color':(\"black\",\"#ECA527\"), 'focus':True}\n",
    "\n",
    "layout: list = [\n",
    "    [sg.Text('PyDataMath-II', size=(50,1), justification='right', background_color=\"#272533\", \n",
    "        text_color='white', font=('Franklin Gothic Book', 14, 'bold'))],\n",
    "    [sg.Text('0.0000', size=(16,1), justification='right', background_color='black', text_color='red', \n",
    "        font=('Digital-7',51), relief='sunken', key=\"_DISPLAY_\")],\n",
    "    [sg.Button('C',**bt), sg.Button('CE',**bt), sg.Button('%',**bt), sg.Button(\"/\",**bt)],\n",
    "    [sg.Button('7',**bw), sg.Button('8',**bw), sg.Button('9',**bw), sg.Button(\"*\",**bt)],\n",
    "    [sg.Button('4',**bw), sg.Button('5',**bw), sg.Button('6',**bw), sg.Button(\"-\",**bt)],\n",
    "    [sg.Button('1',**bw), sg.Button('2',**bw), sg.Button('3',**bw), sg.Button(\"+\",**bt)],    \n",
    "    [sg.Button('0',**bw), sg.Button('.',**bw), sg.Button('=',**bo, bind_return_key=True)],\n",
    "]\n",
    "\n",
    "window: object = sg.Window('PyDataMath-II', layout=layout, element_justification='right', margins=(10,20), background_color=\"#272533\", return_keyboard_events=True)\n",
    "\n",
    "##----CALCULATOR FUNCTIONS-------------------------------##\n",
    "var: dict = {'front':[], 'back':[], 'decimal':False, 'x_val':0.0, 'y_val':0.0, 'result':0.0, 'operator':''}\n",
    "\n",
    "#-----HELPER FUNCTIONS\n",
    "def format_number() -> float:\n",
    "    ''' Create a consolidated string of numbers from front and back lists '''\n",
    "    return float(''.join(var['front']) + '.' + ''.join(var['back']))\n",
    "\n",
    "\n",
    "def update_display(display_value: str):\n",
    "    ''' Update the calculator display after an event click '''\n",
    "    try:\n",
    "        window['_DISPLAY_'].update(value='{:,.4f}'.format(display_value))\n",
    "    except:\n",
    "        window['_DISPLAY_'].update(value=display_value)\n",
    "\n",
    "\n",
    "#-----CLICK EVENTS\n",
    "def number_click(event: str):\n",
    "    ''' Number button button click event '''\n",
    "    global var\n",
    "    if var['decimal']:\n",
    "        var['back'].append(event)\n",
    "    else:\n",
    "        var['front'].append(event)\n",
    "    update_display(format_number())\n",
    "\n",
    "\n",
    "def clear_click():\n",
    "    ''' CE or C button click event '''\n",
    "    global var\n",
    "    var['front'].clear()\n",
    "    var['back'].clear()\n",
    "    var['decimal'] = False \n",
    "\n",
    "\n",
    "def operator_click(event: str):\n",
    "    ''' + - / * button click event '''\n",
    "    global var\n",
    "    var['operator'] = event\n",
    "    try:\n",
    "        var['x_val'] = format_number()\n",
    "    except:\n",
    "        var['x_val'] = var['result']\n",
    "    clear_click()\n",
    "\n",
    "\n",
    "def calculate_click():\n",
    "    ''' Equals button click event '''\n",
    "    global var\n",
    "    var['y_val'] = format_number()\n",
    "    try:\n",
    "        var['result'] = eval(str(var['x_val']) + var['operator'] + str(var['y_val']))\n",
    "        update_display(var['result'])\n",
    "        clear_click()    \n",
    "    except:\n",
    "        update_display(\"ERROR! DIV/0\")\n",
    "        clear_click()\n",
    "\n",
    "##-----MAIN EVENT LOOP-----------------------------------##\n",
    "while True:\n",
    "    event, values = window.read()\n",
    "    print(event)\n",
    "    if event is None:\n",
    "        break\n",
    "    if event in ['0','1','2','3','4','5','6','7','8','9']:\n",
    "        number_click(event)\n",
    "    if event in ['Escape:27','C','CE']: # 'Escape:27 for keyboard control\n",
    "        clear_click()\n",
    "        update_display(0.0)\n",
    "        var['result'] = 0.0\n",
    "    if event in ['+','-','*','/']:\n",
    "        operator_click(event)\n",
    "    if event == '=':\n",
    "        calculate_click()\n",
    "    if event == '.':\n",
    "        var['decimal'] = True\n",
    "    if event == '%':\n",
    "        update_display(var['result'] / 100.0)"
   ]
  },
  {
   "cell_type": "code",
   "execution_count": null,
   "id": "40498821",
   "metadata": {},
   "outputs": [],
   "source": []
  }
 ],
 "metadata": {
  "kernelspec": {
   "display_name": "Python 3 (ipykernel)",
   "language": "python",
   "name": "python3"
  },
  "language_info": {
   "codemirror_mode": {
    "name": "ipython",
    "version": 3
   },
   "file_extension": ".py",
   "mimetype": "text/x-python",
   "name": "python",
   "nbconvert_exporter": "python",
   "pygments_lexer": "ipython3",
   "version": "3.9.12"
  }
 },
 "nbformat": 4,
 "nbformat_minor": 5
}
